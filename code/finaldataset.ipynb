{
  "nbformat": 4,
  "nbformat_minor": 0,
  "metadata": {
    "colab": {
      "provenance": [],
      "authorship_tag": "ABX9TyMOz8S3Eq/qq7yz6vs/1736",
      "include_colab_link": true
    },
    "kernelspec": {
      "name": "python3",
      "display_name": "Python 3"
    },
    "language_info": {
      "name": "python"
    }
  },
  "cells": [
    {
      "cell_type": "markdown",
      "metadata": {
        "id": "view-in-github",
        "colab_type": "text"
      },
      "source": [
        "<a href=\"https://colab.research.google.com/github/dutta-arka/Transit-Detect/blob/main/finaldataset.ipynb\" target=\"_parent\"><img src=\"https://colab.research.google.com/assets/colab-badge.svg\" alt=\"Open In Colab\"/></a>"
      ]
    },
    {
      "cell_type": "markdown",
      "source": [
        "Set the path and the .txt file you ant to use"
      ],
      "metadata": {
        "id": "TSCBwPJ1MaRy"
      }
    },
    {
      "cell_type": "code",
      "execution_count": null,
      "metadata": {
        "id": "oDHBzH_GJEDV"
      },
      "outputs": [],
      "source": [
        "path = \"path/to/file/\"\n",
        "masterlist = open(path + \"xxx.txt\", \"r\")"
      ]
    },
    {
      "cell_type": "code",
      "source": [
        "file_id = masterlist.read()"
      ],
      "metadata": {
        "id": "t5z02wHtJQha"
      },
      "execution_count": null,
      "outputs": []
    },
    {
      "cell_type": "code",
      "source": [
        "file_id = file_id.split('\\n')"
      ],
      "metadata": {
        "id": "idzldaNsKY0R"
      },
      "execution_count": null,
      "outputs": []
    },
    {
      "cell_type": "code",
      "source": [
        "len(file_id)"
      ],
      "metadata": {
        "id": "14-Qxp2SL7eP"
      },
      "execution_count": null,
      "outputs": []
    },
    {
      "cell_type": "code",
      "source": [
        "file_id = list(set(file_id))\n",
        "# file_id"
      ],
      "metadata": {
        "id": "eOokR006L9F-"
      },
      "execution_count": null,
      "outputs": []
    },
    {
      "cell_type": "code",
      "source": [
        "nav_file_id = []\n",
        "# count = 0"
      ],
      "metadata": {
        "id": "jqPTBTuIL-pU"
      },
      "execution_count": null,
      "outputs": []
    },
    {
      "cell_type": "code",
      "source": [
        "for i in file_id:\n",
        "  ep = lk.search_lightcurve(i, mission='TESS')\n",
        "  # count += 1\n",
        "  # print(count, i)\n",
        "  if len(ep) == 0:\n",
        "    nav_file_id.append(i)\n",
        "    # count += 1\n",
        "    # print(count, i)"
      ],
      "metadata": {
        "id": "LqUn8mxFMF4v"
      },
      "execution_count": null,
      "outputs": []
    },
    {
      "cell_type": "code",
      "source": [
        "# m_percentage = (len(nav_file_id)/len(file_id))*100\n",
        "# print(m_percentage)"
      ],
      "metadata": {
        "id": "pArrMPj9MNcs"
      },
      "execution_count": null,
      "outputs": []
    },
    {
      "cell_type": "code",
      "source": [
        "TIC_list = [i for i in file_id if i not in nav_file_id]"
      ],
      "metadata": {
        "id": "Hf-K7iLjMRT6"
      },
      "execution_count": null,
      "outputs": []
    },
    {
      "cell_type": "code",
      "source": [
        "len(TIC_list)\n",
        "# TIC_list"
      ],
      "metadata": {
        "id": "vSdD_mpzMTZq"
      },
      "execution_count": null,
      "outputs": []
    },
    {
      "cell_type": "markdown",
      "source": [
        "Print the final TIC_list to get all the targets."
      ],
      "metadata": {
        "id": "qA1-1S49Mlct"
      }
    }
  ]
}
